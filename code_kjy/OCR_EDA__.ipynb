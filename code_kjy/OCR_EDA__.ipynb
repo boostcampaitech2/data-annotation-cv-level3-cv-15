{
 "cells": [
  {
   "cell_type": "markdown",
   "metadata": {
    "id": "h24KpW2YL9Cm"
   },
   "source": [
    "## EDA 할 내용\n",
    "- 이미지 당 단어 개수 분포 \n",
    "- 전체 단어 길이 분포\n",
    "- image width, height\n",
    "- 전체 BBOX 크기 분포\n",
    "    - 넓이 기준\n",
    "- 전체 태그 별 분포\n",
    "    - 언어\n",
    "    - orientation\n",
    "    - word tag\n",
    "    - image tag\n",
    "- aspect ratio (가로/세로)\n",
    "   - polygon은 rectify하기"
   ]
  },
  {
   "cell_type": "code",
   "execution_count": null,
   "metadata": {
    "id": "2pR_L1BHL9Co"
   },
   "outputs": [],
   "source": [
    "'''\n",
    "original code source : https://www.kaggle.com/aidapearson/eda-starter-notebook\n",
    "'''"
   ]
  },
  {
   "cell_type": "code",
   "execution_count": 1,
   "metadata": {
    "id": "eO7OcR7bL9Cp"
   },
   "outputs": [],
   "source": [
    "%matplotlib inline\n",
    "import glob\n",
    "import json\n",
    "import matplotlib.pyplot as plt\n",
    "import pandas as pd\n",
    "import seaborn as sns\n",
    "from pathlib import Path\n",
    "from PIL import Image\n",
    "from collections import Counter\n",
    "import numpy as np"
   ]
  },
  {
   "cell_type": "code",
   "execution_count": 2,
   "metadata": {
    "id": "Y75ZoSi5L9Cq"
   },
   "outputs": [],
   "source": [
    "# 보류\n",
    "from IPython.core.interactiveshell import InteractiveShell\n",
    "InteractiveShell.ast_node_interactivity = \"all\""
   ]
  },
  {
   "cell_type": "code",
   "execution_count": 3,
   "metadata": {
    "id": "2yOmyrp5L9Cq"
   },
   "outputs": [],
   "source": [
    "def read_json(filename):\n",
    "    with Path(filename).open(encoding='utf8') as handle:\n",
    "        ann = json.load(handle)\n",
    "    return ann"
   ]
  },
  {
   "cell_type": "code",
   "execution_count": 4,
   "metadata": {
    "id": "F5_5YmOdL9Cq"
   },
   "outputs": [],
   "source": [
    "# gt file과 raw image file path를 이용해 데이터를 불러온다. 아래 경로는 예시.\n",
    "# data = read_json(\"/opt/ml/dataset/annotation.json\")\n",
    "data = read_json(\"/opt/ml/dataset_revised/ufo/annotation.json\")"
   ]
  },
  {
   "cell_type": "code",
   "execution_count": 5,
   "metadata": {
    "id": "dCiJnhnBL9Cr"
   },
   "outputs": [],
   "source": [
    "def get_box_size(quads):\n",
    "    \"\"\" 단어 영역의 사각형 좌표가 주어졌을 때 가로, 세로길이를 계산해주는 함수.\n",
    "    TODO: 각 변의 길이를 단순히 max로 처리하기때문에 직사각형에 가까운 형태가 아니면 약간 왜곡이 있다.\n",
    "    Args:\n",
    "        quads: np.ndarray(n, 4, 2) n개 단어 bounding-box의 4개 점 좌표 (단위 pixel)\n",
    "    Return:\n",
    "        sizes: np.ndarray(n, 2) n개 box의 (height, width)쌍\n",
    "    \"\"\"\n",
    "    dists = []\n",
    "    for i, j in [(1, 2), (3, 0), (0, 1), (2, 3)]: # [right(height), left(height), upper(width), lower(width)] sides\n",
    "        # print(f\"quads[:, {i}] - quads[:, {j}] = {quads[:, i]} - {quads[:, j]} = {quads[:, i] - quads[:, j]}\")\n",
    "        dists.append(np.linalg.norm(quads[:, i] - quads[:, j], ord=2, axis=1))\n",
    "\n",
    "    # print(f\"dists 1 = {dists}\")\n",
    "\n",
    "    dists = np.stack(dists, axis=-1).reshape(-1, 2, 2) # shape (n, 2, 2) widths, heights into separate dim\n",
    "    # print(f\"dists 2 = {dists}\")\n",
    "    # print(f\"return = {np.rint(dists.mean(axis=-1)).astype(int)}\")\n",
    "    return np.rint(dists.mean(axis=-1)).astype(int)"
   ]
  },
  {
   "cell_type": "code",
   "execution_count": 6,
   "metadata": {
    "id": "24cTfnCrL9Cr"
   },
   "outputs": [],
   "source": [
    "def rectify_poly(poly, direction):\n",
    "    \"\"\"일반 polygon형태인 라벨을 크롭하고 rectify해주는 함수.\n",
    "    Args:\n",
    "        poly: np.ndarray(2n+4, 2) (where n>0), 4, 6, 8\n",
    "        image: np.ndarray opencv 포멧의 이미지\n",
    "        direction: 글자의 읽는 방향과 진행 방향의 수평(Horizontal) 혹은 수직(Vertical) 여부\n",
    "    Return:\n",
    "        rectified: np.ndarray(2, ?) rectify된 단어 bbox의 사이즈.\n",
    "    \"\"\"\n",
    "    \n",
    "    n_pts = poly.shape[0]\n",
    "    assert n_pts % 2 == 0\n",
    "    if n_pts == 4:\n",
    "        size = get_box_size(poly[None])\n",
    "        h = size[:, 0]\n",
    "        w = size[:, 1]\n",
    "        # print(h, w)\n",
    "        return np.stack((h,w))\n",
    "\n",
    "    def unroll(indices):\n",
    "        return list(zip(indices[:-1], indices[1:]))\n",
    "\n",
    "    # polygon하나를 인접한 사각형 여러개로 쪼갠다.\n",
    "    indices = list(range(n_pts))\n",
    "    if direction == 'Horizontal':\n",
    "        upper_pts = unroll(indices[:n_pts // 2]) # (0, 1), (1, 2), ... (4, 5)\n",
    "        lower_pts = unroll(indices[n_pts // 2:])[::-1] # (8, 9), (7, 8), ... (6, 7)\n",
    "\n",
    "        quads = np.stack([poly[[i, j, k, l]] for (i, j), (k, l) in zip(upper_pts, lower_pts)])\n",
    "    else:\n",
    "        right_pts = unroll(indices[1:n_pts // 2 + 1]) # (1, 2), (2, 3), ... (4, 5)\n",
    "        left_pts = unroll([0] + indices[:n_pts // 2:-1]) # (0, 9), (9, 8), ... (7, 6)\n",
    "\n",
    "        quads = np.stack([poly[[i, j, k, l]] for (j, k), (i, l) in zip(right_pts, left_pts)])\n",
    "\n",
    "    sizes = get_box_size(quads)\n",
    "    if direction == 'Horizontal':\n",
    "        h = sizes[:, 0].max()\n",
    "        widths = sizes[:, 1]\n",
    "        w = np.sum(widths)\n",
    "        # print(np.stack((h,w)).reshape(2,-1))\n",
    "        return np.stack((h,w)).reshape(2,-1)\n",
    "    elif direction == 'Vertical':\n",
    "        heights = sizes[:, 0]\n",
    "        w = sizes[:, 1].max()\n",
    "        h = np.sum(heights)\n",
    "        # print(np.stack((h,w)).reshape(2,-1))\n",
    "        return np.stack((h,w)).reshape(2,-1)\n",
    "    else:\n",
    "        h = sizes[:, 0]\n",
    "        w = sizes[:, 1]\n",
    "        # print(np.stack((h,w),-1))\n",
    "        return np.stack((h,w),-1)"
   ]
  },
  {
   "cell_type": "code",
   "execution_count": 19,
   "metadata": {
    "id": "E9_VkNJcL9Cs"
   },
   "outputs": [
    {
     "name": "stdout",
     "output_type": "stream",
     "text": [
      "25 14B9AA34-3F88-40E2-A3E8-6A2ED0CAE7E1.JPG [[ 935 1112]]\n"
     ]
    },
    {
     "ename": "AssertionError",
     "evalue": "",
     "output_type": "error",
     "traceback": [
      "\u001b[0;31m---------------------------------------------------------------------------\u001b[0m",
      "\u001b[0;31mAssertionError\u001b[0m                            Traceback (most recent call last)",
      "\u001b[0;32m/tmp/ipykernel_32027/1210965400.py\u001b[0m in \u001b[0;36m<module>\u001b[0;34m\u001b[0m\n\u001b[1;32m     41\u001b[0m                 \u001b[0mprint\u001b[0m\u001b[0;34m(\u001b[0m\u001b[0midx\u001b[0m\u001b[0;34m,\u001b[0m \u001b[0mimage_key\u001b[0m\u001b[0;34m,\u001b[0m \u001b[0mpoly\u001b[0m\u001b[0;34m)\u001b[0m\u001b[0;34m\u001b[0m\u001b[0;34m\u001b[0m\u001b[0m\n\u001b[1;32m     42\u001b[0m \u001b[0;34m\u001b[0m\u001b[0m\n\u001b[0;32m---> 43\u001b[0;31m             \u001b[0msize\u001b[0m \u001b[0;34m=\u001b[0m \u001b[0mrectify_poly\u001b[0m\u001b[0;34m(\u001b[0m\u001b[0mpoly\u001b[0m\u001b[0;34m,\u001b[0m \u001b[0mword\u001b[0m\u001b[0;34m[\u001b[0m\u001b[0;34m'orientation'\u001b[0m\u001b[0;34m]\u001b[0m\u001b[0;34m)\u001b[0m\u001b[0;34m\u001b[0m\u001b[0;34m\u001b[0m\u001b[0m\n\u001b[0m\u001b[1;32m     44\u001b[0m             \u001b[0;32mif\u001b[0m \u001b[0mword\u001b[0m\u001b[0;34m[\u001b[0m\u001b[0;34m'orientation'\u001b[0m\u001b[0;34m]\u001b[0m \u001b[0;34m==\u001b[0m \u001b[0;34m'Horizontal'\u001b[0m\u001b[0;34m:\u001b[0m\u001b[0;34m\u001b[0m\u001b[0;34m\u001b[0m\u001b[0m\n\u001b[1;32m     45\u001b[0m                 \u001b[0mhor_sizes\u001b[0m\u001b[0;34m.\u001b[0m\u001b[0mappend\u001b[0m\u001b[0;34m(\u001b[0m\u001b[0msize\u001b[0m\u001b[0;34m)\u001b[0m\u001b[0;34m\u001b[0m\u001b[0;34m\u001b[0m\u001b[0m\n",
      "\u001b[0;32m/tmp/ipykernel_32027/1944919730.py\u001b[0m in \u001b[0;36mrectify_poly\u001b[0;34m(poly, direction)\u001b[0m\n\u001b[1;32m     10\u001b[0m \u001b[0;34m\u001b[0m\u001b[0m\n\u001b[1;32m     11\u001b[0m     \u001b[0mn_pts\u001b[0m \u001b[0;34m=\u001b[0m \u001b[0mpoly\u001b[0m\u001b[0;34m.\u001b[0m\u001b[0mshape\u001b[0m\u001b[0;34m[\u001b[0m\u001b[0;36m0\u001b[0m\u001b[0;34m]\u001b[0m\u001b[0;34m\u001b[0m\u001b[0;34m\u001b[0m\u001b[0m\n\u001b[0;32m---> 12\u001b[0;31m     \u001b[0;32massert\u001b[0m \u001b[0mn_pts\u001b[0m \u001b[0;34m%\u001b[0m \u001b[0;36m2\u001b[0m \u001b[0;34m==\u001b[0m \u001b[0;36m0\u001b[0m\u001b[0;34m\u001b[0m\u001b[0;34m\u001b[0m\u001b[0m\n\u001b[0m\u001b[1;32m     13\u001b[0m     \u001b[0;32mif\u001b[0m \u001b[0mn_pts\u001b[0m \u001b[0;34m==\u001b[0m \u001b[0;36m4\u001b[0m\u001b[0;34m:\u001b[0m\u001b[0;34m\u001b[0m\u001b[0;34m\u001b[0m\u001b[0m\n\u001b[1;32m     14\u001b[0m         \u001b[0msize\u001b[0m \u001b[0;34m=\u001b[0m \u001b[0mget_box_size\u001b[0m\u001b[0;34m(\u001b[0m\u001b[0mpoly\u001b[0m\u001b[0;34m[\u001b[0m\u001b[0;32mNone\u001b[0m\u001b[0;34m]\u001b[0m\u001b[0;34m)\u001b[0m\u001b[0;34m\u001b[0m\u001b[0;34m\u001b[0m\u001b[0m\n",
      "\u001b[0;31mAssertionError\u001b[0m: "
     ]
    }
   ],
   "source": [
    "df = {}\n",
    "df['image'] = []\n",
    "df['word_counts'] = []\n",
    "df['image_width'] = []\n",
    "df['image_height'] = []\n",
    "df['image_tags'] = []\n",
    "img_tags = []\n",
    "\n",
    "quads = []\n",
    "polys = []\n",
    "seq_length = []\n",
    "hor_sizes = []\n",
    "ver_sizes = []\n",
    "irr_sizes = []\n",
    "languages = []\n",
    "orientation = []\n",
    "word_tags = []\n",
    "aspect_ratio = []\n",
    "ver_string = []\n",
    "\n",
    "for image_key, image_value in data[\"images\"].items():\n",
    "    df['image'].append(image_key)\n",
    "    df['image_tags'].append(image_value['tags'])\n",
    "    df['image_tags']= [['None'] if v is None else v for v in df['image_tags']] # our data does not inlcude multi-tag images \n",
    "    word_ann = image_value['words']\n",
    "    count_ill = 0 \n",
    "    for idx, word in enumerate(word_ann.values()):\n",
    "        if word['illegibility']== False:\n",
    "            orientation.append(word['orientation'])\n",
    "            orientation = [v for v in orientation]\n",
    "            seq_length.append(len(word['transcription']))\n",
    "            languages.append(word['language'])\n",
    "            languages = [['None'] if v is None else v for v in languages] # our data does not inlcude multi-language words\n",
    "            if word['word_tags'] != None:\n",
    "                word_tags.extend(word['word_tags'][:])\n",
    "            elif word['word_tags']== None:\n",
    "                word_tags.append('None')\n",
    "            poly = np.int32(word['points'])\n",
    "\n",
    "            if poly.shape[0] % 2 == 1:\n",
    "                print(idx, image_key, poly)\n",
    "\n",
    "            size = rectify_poly(poly, word['orientation'])\n",
    "            if word['orientation'] == 'Horizontal':\n",
    "                hor_sizes.append(size)\n",
    "            elif word['orientation'] == 'Vertical':\n",
    "                ver_sizes.append(size)\n",
    "            else:\n",
    "                irr_sizes.append(size)\n",
    "            \n",
    "        else:\n",
    "            count_ill += 1\n",
    "    df['word_counts'].append(len(word_ann)-count_ill)\n",
    "        \n",
    "all_sizes = hor_sizes + ver_sizes + irr_sizes\n",
    "quad_area = [all_sizes[i][0]*all_sizes[i][1] for i in range(len(all_sizes))]\n",
    "total_area = []\n",
    "for s in quad_area:\n",
    "    if s.shape[0] == 1:\n",
    "        total_area.append(np.sum(s[0])) \n",
    "    else:\n",
    "        total_area.append(np.sum(s))\n",
    "\n",
    "hor_aspect_ratio = [hor_sizes[i][1]/hor_sizes[i][0] for i in range(len(hor_sizes))]\n",
    "ver_aspect_ratio = [ver_sizes[i][1]/ver_sizes[i][0] for i in range(len(ver_sizes))]\n",
    "\n",
    "image_df = pd.DataFrame.from_dict(df)"
   ]
  },
  {
   "cell_type": "code",
   "execution_count": 18,
   "metadata": {
    "id": "tnSGtrrpL9Ct",
    "outputId": "90512162-bf4e-4a24-e777-0306d3922c14"
   },
   "outputs": [
    {
     "data": {
      "text/html": [
       "<div>\n",
       "<style scoped>\n",
       "    .dataframe tbody tr th:only-of-type {\n",
       "        vertical-align: middle;\n",
       "    }\n",
       "\n",
       "    .dataframe tbody tr th {\n",
       "        vertical-align: top;\n",
       "    }\n",
       "\n",
       "    .dataframe thead th {\n",
       "        text-align: right;\n",
       "    }\n",
       "</style>\n",
       "<table border=\"1\" class=\"dataframe\">\n",
       "  <thead>\n",
       "    <tr style=\"text-align: right;\">\n",
       "      <th></th>\n",
       "      <th>image</th>\n",
       "      <th>word_counts</th>\n",
       "      <th>image_tags</th>\n",
       "    </tr>\n",
       "  </thead>\n",
       "  <tbody>\n",
       "    <tr>\n",
       "      <th>0</th>\n",
       "      <td>14B9AA34-3F88-40E2-A3E8-6A2ED0CAE7E1.JPG</td>\n",
       "      <td>43</td>\n",
       "      <td></td>\n",
       "    </tr>\n",
       "    <tr>\n",
       "      <th>1</th>\n",
       "      <td>1631619209578-10.jpg</td>\n",
       "      <td>4</td>\n",
       "      <td></td>\n",
       "    </tr>\n",
       "    <tr>\n",
       "      <th>2</th>\n",
       "      <td>1632643837411-12.jpg</td>\n",
       "      <td>20</td>\n",
       "      <td></td>\n",
       "    </tr>\n",
       "    <tr>\n",
       "      <th>3</th>\n",
       "      <td>1632644162889-2.jpg</td>\n",
       "      <td>4</td>\n",
       "      <td></td>\n",
       "    </tr>\n",
       "    <tr>\n",
       "      <th>4</th>\n",
       "      <td>1632651294334-28.jpg</td>\n",
       "      <td>11</td>\n",
       "      <td></td>\n",
       "    </tr>\n",
       "    <tr>\n",
       "      <th>...</th>\n",
       "      <td>...</td>\n",
       "      <td>...</td>\n",
       "      <td>...</td>\n",
       "    </tr>\n",
       "    <tr>\n",
       "      <th>1247</th>\n",
       "      <td>IMG_7092.jpeg</td>\n",
       "      <td>1</td>\n",
       "      <td></td>\n",
       "    </tr>\n",
       "    <tr>\n",
       "      <th>1248</th>\n",
       "      <td>IMG_7122.jpeg</td>\n",
       "      <td>16</td>\n",
       "      <td></td>\n",
       "    </tr>\n",
       "    <tr>\n",
       "      <th>1249</th>\n",
       "      <td>IMG_7215.jpeg</td>\n",
       "      <td>12</td>\n",
       "      <td></td>\n",
       "    </tr>\n",
       "    <tr>\n",
       "      <th>1250</th>\n",
       "      <td>IMG_7239.jpeg</td>\n",
       "      <td>15</td>\n",
       "      <td></td>\n",
       "    </tr>\n",
       "    <tr>\n",
       "      <th>1251</th>\n",
       "      <td>IMG_7250.jpeg</td>\n",
       "      <td>5</td>\n",
       "      <td></td>\n",
       "    </tr>\n",
       "  </tbody>\n",
       "</table>\n",
       "<p>1252 rows × 3 columns</p>\n",
       "</div>"
      ],
      "text/plain": [
       "                                         image  word_counts image_tags\n",
       "0     14B9AA34-3F88-40E2-A3E8-6A2ED0CAE7E1.JPG           43           \n",
       "1                         1631619209578-10.jpg            4           \n",
       "2                         1632643837411-12.jpg           20           \n",
       "3                          1632644162889-2.jpg            4           \n",
       "4                         1632651294334-28.jpg           11           \n",
       "...                                        ...          ...        ...\n",
       "1247                             IMG_7092.jpeg            1           \n",
       "1248                             IMG_7122.jpeg           16           \n",
       "1249                             IMG_7215.jpeg           12           \n",
       "1250                             IMG_7239.jpeg           15           \n",
       "1251                             IMG_7250.jpeg            5           \n",
       "\n",
       "[1252 rows x 3 columns]"
      ]
     },
     "execution_count": 18,
     "metadata": {},
     "output_type": "execute_result"
    }
   ],
   "source": [
    "image_df['image_tags'] = image_df['image_tags'].apply(lambda x: ','.join(map(str, x)))\n",
    "image_df"
   ]
  },
  {
   "cell_type": "code",
   "execution_count": 19,
   "metadata": {
    "id": "xOcHV3lXL9Ct",
    "outputId": "5209e90e-6ea6-4aa7-dee0-a746bd08857e"
   },
   "outputs": [
    {
     "data": {
      "text/plain": [
       "count     1252\n",
       "unique       1\n",
       "top           \n",
       "freq      1252\n",
       "Name: image_tags, dtype: object"
      ]
     },
     "execution_count": 19,
     "metadata": {},
     "output_type": "execute_result"
    }
   ],
   "source": [
    "image_df['image_tags'].describe()"
   ]
  },
  {
   "cell_type": "code",
   "execution_count": 20,
   "metadata": {
    "id": "KtkwFihkL9Cu",
    "outputId": "9a682578-f3f9-4970-d29e-6fe044558ec9"
   },
   "outputs": [
    {
     "data": {
      "text/plain": [
       "{''}"
      ]
     },
     "execution_count": 20,
     "metadata": {},
     "output_type": "execute_result"
    }
   ],
   "source": [
    "# check if there are image with multiple image tags (which would apper as e.g. \"document, outfocus\")\n",
    "set(image_df['image_tags'].tolist())"
   ]
  },
  {
   "cell_type": "code",
   "execution_count": 21,
   "metadata": {
    "id": "ROlVnxDVL9Cu",
    "outputId": "384ee963-0b77-464c-da94-c7881f4465bd"
   },
   "outputs": [
    {
     "data": {
      "text/html": [
       "<div>\n",
       "<style scoped>\n",
       "    .dataframe tbody tr th:only-of-type {\n",
       "        vertical-align: middle;\n",
       "    }\n",
       "\n",
       "    .dataframe tbody tr th {\n",
       "        vertical-align: top;\n",
       "    }\n",
       "\n",
       "    .dataframe thead th {\n",
       "        text-align: right;\n",
       "    }\n",
       "</style>\n",
       "<table border=\"1\" class=\"dataframe\">\n",
       "  <thead>\n",
       "    <tr style=\"text-align: right;\">\n",
       "      <th></th>\n",
       "      <th>word_counts</th>\n",
       "    </tr>\n",
       "  </thead>\n",
       "  <tbody>\n",
       "    <tr>\n",
       "      <th>count</th>\n",
       "      <td>1252.000000</td>\n",
       "    </tr>\n",
       "    <tr>\n",
       "      <th>mean</th>\n",
       "      <td>16.793930</td>\n",
       "    </tr>\n",
       "    <tr>\n",
       "      <th>std</th>\n",
       "      <td>24.477772</td>\n",
       "    </tr>\n",
       "    <tr>\n",
       "      <th>min</th>\n",
       "      <td>0.000000</td>\n",
       "    </tr>\n",
       "    <tr>\n",
       "      <th>25%</th>\n",
       "      <td>3.000000</td>\n",
       "    </tr>\n",
       "    <tr>\n",
       "      <th>50%</th>\n",
       "      <td>8.000000</td>\n",
       "    </tr>\n",
       "    <tr>\n",
       "      <th>75%</th>\n",
       "      <td>19.000000</td>\n",
       "    </tr>\n",
       "    <tr>\n",
       "      <th>max</th>\n",
       "      <td>257.000000</td>\n",
       "    </tr>\n",
       "  </tbody>\n",
       "</table>\n",
       "</div>"
      ],
      "text/plain": [
       "       word_counts\n",
       "count  1252.000000\n",
       "mean     16.793930\n",
       "std      24.477772\n",
       "min       0.000000\n",
       "25%       3.000000\n",
       "50%       8.000000\n",
       "75%      19.000000\n",
       "max     257.000000"
      ]
     },
     "execution_count": 21,
     "metadata": {},
     "output_type": "execute_result"
    }
   ],
   "source": [
    "image_df.describe()"
   ]
  },
  {
   "cell_type": "code",
   "execution_count": 28,
   "metadata": {},
   "outputs": [
    {
     "data": {
      "text/plain": [
       "word_counts\n",
       "0      87\n",
       "1      90\n",
       "2      83\n",
       "3      85\n",
       "4      64\n",
       "       ..\n",
       "176     1\n",
       "181     1\n",
       "183     1\n",
       "233     1\n",
       "257     1\n",
       "Name: word_counts, Length: 105, dtype: int64"
      ]
     },
     "execution_count": 28,
     "metadata": {},
     "output_type": "execute_result"
    }
   ],
   "source": [
    "image_df['word_counts'].groupby(image_df['word_counts']).count()"
   ]
  },
  {
   "cell_type": "code",
   "execution_count": 29,
   "metadata": {
    "id": "cKJu9bOQL9Cu",
    "outputId": "04064846-a42b-4326-89ce-fca74423fb33"
   },
   "outputs": [
    {
     "data": {
      "text/plain": [
       "'14B9AA34-3F88-40E2-A3E8-6A2ED0CAE7E1.JPG'"
      ]
     },
     "execution_count": 29,
     "metadata": {},
     "output_type": "execute_result"
    }
   ],
   "source": [
    "# just for checking\n",
    "list(data['images'].keys())[0]"
   ]
  },
  {
   "cell_type": "code",
   "execution_count": 30,
   "metadata": {
    "id": "Ew54X0ZwL9Cu",
    "outputId": "07f736ae-3c2b-4c1b-dd01-74be4ee16020"
   },
   "outputs": [
    {
     "data": {
      "text/plain": [
       "dict_keys(['paragraphs', 'words', 'chars', 'tags', 'relations', 'license_tag'])"
      ]
     },
     "execution_count": 30,
     "metadata": {},
     "output_type": "execute_result"
    }
   ],
   "source": [
    "first_img = list(data['images'].keys())[0]\n",
    "data[\"images\"][first_img].keys()"
   ]
  },
  {
   "cell_type": "code",
   "execution_count": 32,
   "metadata": {
    "id": "DuHJ4j7rL9Cv",
    "outputId": "0e9c6daa-b6bd-448e-eaf2-f4cfebad5cc2"
   },
   "outputs": [],
   "source": [
    "# image width, height \n",
    "# g = sns.jointplot(\"image_width\", \"image_height\", data=image_df, kind=\"kde\", space=0, color=\"r\")\n",
    "# g.set_axis_labels(\"Image Width\", \"Image Height\")"
   ]
  },
  {
   "cell_type": "code",
   "execution_count": 33,
   "metadata": {
    "id": "lUAasu_WL9Cv"
   },
   "outputs": [],
   "source": [
    "def create_count_df(df, field, index):\n",
    "    count=df.groupby(field)[index].count().sort_values(ascending=False)\n",
    "    count_df = count.to_frame().reset_index()\n",
    "    count_df.columns = [field, field + '_count']\n",
    "    return count_df\n",
    "\n",
    "def plot_count_df(df, field, random_sample, color, rotation, xlabel, ylabel, title):\n",
    "    fig, ax = plt.subplots(figsize=(10,6))\n",
    "    if random_sample:\n",
    "        df = df.sample(n=50, random_state=1)\n",
    "    bars = ax.bar(df[field], df[field + '_count'], color=color, align='center',alpha=0.5)\n",
    "    for i, b in enumerate(bars):\n",
    "        ax.text(b.get_x()+b.get_width()*(1/2),b.get_height()+0.1, \\\n",
    "                df.iloc[i][field + '_count'],ha='center',fontsize=13)\n",
    "    ax.set_xticklabels(df[field],rotation=rotation, fontsize=13)\n",
    "    ax.set_xlabel(xlabel, fontsize=13)\n",
    "    ax.set_ylabel(ylabel, fontsize=13)\n",
    "    ax.set_title(title, fontsize=20)\n",
    "    plt.show()\n",
    "    "
   ]
  },
  {
   "cell_type": "code",
   "execution_count": 34,
   "metadata": {
    "id": "87mcouiRL9Cv",
    "outputId": "7c38a51d-a649-4317-8714-b38cfa3f54cb"
   },
   "outputs": [
    {
     "name": "stderr",
     "output_type": "stream",
     "text": [
      "/tmp/ipykernel_6944/2687934052.py:15: UserWarning: FixedFormatter should only be used together with FixedLocator\n",
      "  ax.set_xticklabels(df[field],rotation=rotation, fontsize=13)\n"
     ]
    },
    {
     "data": {
      "image/png": "[encoded data removed]",
      "text/plain": [
       "<Figure size 720x432 with 1 Axes>"
      ]
     },
     "metadata": {
      "needs_background": "light"
     },
     "output_type": "display_data"
    }
   ],
   "source": [
    "img_tag_df = create_count_df(df=image_df, field='image_tags', index='image')\n",
    "plot_count_df(df=img_tag_df, field='image_tags', random_sample=False, color='g', rotation=0, xlabel='image tag', \\\n",
    "              ylabel='Number of image tag', title='Image Tag Distribution')"
   ]
  },
  {
   "cell_type": "code",
   "execution_count": 35,
   "metadata": {
    "id": "4rPu6i9FL9Cv",
    "outputId": "2d0cc815-372c-4fa2-8aa4-775644f1c15b"
   },
   "outputs": [
    {
     "name": "stderr",
     "output_type": "stream",
     "text": [
      "/tmp/ipykernel_6944/2687934052.py:15: UserWarning: FixedFormatter should only be used together with FixedLocator\n",
      "  ax.set_xticklabels(df[field],rotation=rotation, fontsize=13)\n"
     ]
    },
    {
     "data": {
      "image/png": "[encoded data removed]",
      "text/plain": [
       "<Figure size 720x432 with 1 Axes>"
      ]
     },
     "metadata": {
      "needs_background": "light"
     },
     "output_type": "display_data"
    }
   ],
   "source": [
    "# Total word tags \n",
    "word_tag_df = pd.DataFrame(word_tags, columns = ['word_tags'])\n",
    "word_tag_df['index'] = [i for i in range(len(word_tags))]\n",
    "word_tag_df = create_count_df(word_tag_df, field='word_tags',index='index')\n",
    "plot_count_df(df=word_tag_df, field='word_tags', random_sample=False, color='g', rotation=0, xlabel='word tags', \\\n",
    "              ylabel='Count of each word tag', title='Word tag Distribution')"
   ]
  },
  {
   "cell_type": "code",
   "execution_count": 36,
   "metadata": {
    "id": "-XCARHM-L9Cv",
    "outputId": "c6c332be-9c92-4121-b5b4-cd75ba5e02f0"
   },
   "outputs": [
    {
     "data": {
      "text/plain": [
       "19866"
      ]
     },
     "execution_count": 36,
     "metadata": {},
     "output_type": "execute_result"
    }
   ],
   "source": [
    "word_tag_df.iloc[0]['word_tags_count']"
   ]
  },
  {
   "cell_type": "code",
   "execution_count": 37,
   "metadata": {
    "id": "CPGWzkbGL9Cw"
   },
   "outputs": [],
   "source": [
    "def plot_dist(df, field, bins, color, xlabel, ylabel, title):\n",
    "    sns.set(color_codes=True)\n",
    "    fig, ax = plt.subplots(figsize=(18,6))\n",
    "    sns.distplot(df[field], bins=bins, color=color, ax=ax)\n",
    "    \n",
    "    ax.set_xlabel(xlabel, fontsize=13)\n",
    "    ax.set_ylabel(ylabel, fontsize=13)\n",
    "    ax.set_title(title, fontsize=20)\n",
    "    plt.show()"
   ]
  },
  {
   "cell_type": "code",
   "execution_count": 38,
   "metadata": {
    "id": "GfyWtMeKL9Cw",
    "outputId": "0c0202c6-d40c-432f-8496-f1d3a70f1c77"
   },
   "outputs": [
    {
     "name": "stderr",
     "output_type": "stream",
     "text": [
      "/opt/conda/lib/python3.8/site-packages/seaborn/distributions.py:2619: FutureWarning: `distplot` is a deprecated function and will be removed in a future version. Please adapt your code to use either `displot` (a figure-level function with similar flexibility) or `histplot` (an axes-level function for histograms).\n",
      "  warnings.warn(msg, FutureWarning)\n"
     ]
    },
    {
     "data": {
      "image/png": "[encoded data removed]",
      "text/plain": [
       "<Figure size 1296x432 with 1 Axes>"
      ]
     },
     "metadata": {},
     "output_type": "display_data"
    }
   ],
   "source": [
    "plot_dist(df=image_df, field='word_counts', bins=50, color='b', xlabel='number of words per Image', \\\n",
    "          ylabel='Frequency', title='Words per Image Distribution')"
   ]
  },
  {
   "cell_type": "code",
   "execution_count": 49,
   "metadata": {
    "id": "kSC9LAWXL9Cw"
   },
   "outputs": [],
   "source": [
    "word_df ={}\n",
    "\n",
    "word_df['orientation'] = orientation\n",
    "word_df['language'] = languages\n",
    "word_df['index'] = [i for i in range(len(word_df['orientation']))]"
   ]
  },
  {
   "cell_type": "code",
   "execution_count": 50,
   "metadata": {
    "id": "gYs2m8x4L9Cw"
   },
   "outputs": [],
   "source": [
    "word_df = pd.DataFrame.from_dict(word_df)"
   ]
  },
  {
   "cell_type": "code",
   "execution_count": 51,
   "metadata": {
    "id": "TQIQ3X3NL9Cw",
    "outputId": "91bd0c4c-b9fa-4fde-c08a-a9af1362d11a"
   },
   "outputs": [
    {
     "data": {
      "text/html": [
       "<div>\n",
       "<style scoped>\n",
       "    .dataframe tbody tr th:only-of-type {\n",
       "        vertical-align: middle;\n",
       "    }\n",
       "\n",
       "    .dataframe tbody tr th {\n",
       "        vertical-align: top;\n",
       "    }\n",
       "\n",
       "    .dataframe thead th {\n",
       "        text-align: right;\n",
       "    }\n",
       "</style>\n",
       "<table border=\"1\" class=\"dataframe\">\n",
       "  <thead>\n",
       "    <tr style=\"text-align: right;\">\n",
       "      <th></th>\n",
       "      <th>orientation</th>\n",
       "      <th>language</th>\n",
       "      <th>index</th>\n",
       "    </tr>\n",
       "  </thead>\n",
       "  <tbody>\n",
       "    <tr>\n",
       "      <th>0</th>\n",
       "      <td>Horizontal</td>\n",
       "      <td>EN</td>\n",
       "      <td>0</td>\n",
       "    </tr>\n",
       "    <tr>\n",
       "      <th>1</th>\n",
       "      <td>Horizontal</td>\n",
       "      <td>EN</td>\n",
       "      <td>1</td>\n",
       "    </tr>\n",
       "    <tr>\n",
       "      <th>2</th>\n",
       "      <td>Horizontal</td>\n",
       "      <td>EN</td>\n",
       "      <td>2</td>\n",
       "    </tr>\n",
       "    <tr>\n",
       "      <th>3</th>\n",
       "      <td>Horizontal</td>\n",
       "      <td>KO</td>\n",
       "      <td>3</td>\n",
       "    </tr>\n",
       "    <tr>\n",
       "      <th>4</th>\n",
       "      <td>Horizontal</td>\n",
       "      <td>KO</td>\n",
       "      <td>4</td>\n",
       "    </tr>\n",
       "    <tr>\n",
       "      <th>...</th>\n",
       "      <td>...</td>\n",
       "      <td>...</td>\n",
       "      <td>...</td>\n",
       "    </tr>\n",
       "    <tr>\n",
       "      <th>21021</th>\n",
       "      <td>Horizontal</td>\n",
       "      <td>KO</td>\n",
       "      <td>21021</td>\n",
       "    </tr>\n",
       "    <tr>\n",
       "      <th>21022</th>\n",
       "      <td>Horizontal</td>\n",
       "      <td>EN</td>\n",
       "      <td>21022</td>\n",
       "    </tr>\n",
       "    <tr>\n",
       "      <th>21023</th>\n",
       "      <td>Horizontal</td>\n",
       "      <td>KO,EN</td>\n",
       "      <td>21023</td>\n",
       "    </tr>\n",
       "    <tr>\n",
       "      <th>21024</th>\n",
       "      <td>Horizontal</td>\n",
       "      <td>KO</td>\n",
       "      <td>21024</td>\n",
       "    </tr>\n",
       "    <tr>\n",
       "      <th>21025</th>\n",
       "      <td>Horizontal</td>\n",
       "      <td>KO</td>\n",
       "      <td>21025</td>\n",
       "    </tr>\n",
       "  </tbody>\n",
       "</table>\n",
       "<p>21026 rows × 3 columns</p>\n",
       "</div>"
      ],
      "text/plain": [
       "      orientation language  index\n",
       "0      Horizontal       EN      0\n",
       "1      Horizontal       EN      1\n",
       "2      Horizontal       EN      2\n",
       "3      Horizontal       KO      3\n",
       "4      Horizontal       KO      4\n",
       "...           ...      ...    ...\n",
       "21021  Horizontal       KO  21021\n",
       "21022  Horizontal       EN  21022\n",
       "21023  Horizontal    KO,EN  21023\n",
       "21024  Horizontal       KO  21024\n",
       "21025  Horizontal       KO  21025\n",
       "\n",
       "[21026 rows x 3 columns]"
      ]
     },
     "execution_count": 51,
     "metadata": {},
     "output_type": "execute_result"
    }
   ],
   "source": [
    "word_df['language'] = word_df['language'].apply(lambda x: ','.join(map(str, x)))\n",
    "word_df"
   ]
  },
  {
   "cell_type": "code",
   "execution_count": 52,
   "metadata": {
    "id": "1fx0H_6YL9Cw",
    "outputId": "e30ec843-a795-4e84-91f7-97e278b60460"
   },
   "outputs": [
    {
     "data": {
      "text/plain": [
       "Index(['orientation', 'language', 'index'], dtype='object')"
      ]
     },
     "execution_count": 52,
     "metadata": {},
     "output_type": "execute_result"
    }
   ],
   "source": [
    "word_df.columns"
   ]
  },
  {
   "cell_type": "code",
   "execution_count": 53,
   "metadata": {
    "id": "rl7ox33cL9Cw",
    "outputId": "a8d0a2bc-c42b-4600-aa5c-c9da49beb721"
   },
   "outputs": [
    {
     "name": "stderr",
     "output_type": "stream",
     "text": [
      "/tmp/ipykernel_6944/2687934052.py:15: UserWarning: FixedFormatter should only be used together with FixedLocator\n",
      "  ax.set_xticklabels(df[field],rotation=rotation, fontsize=13)\n"
     ]
    },
    {
     "data": {
      "image/png": "[encoded data removed]",
      "text/plain": [
       "<Figure size 720x432 with 1 Axes>"
      ]
     },
     "metadata": {},
     "output_type": "display_data"
    }
   ],
   "source": [
    "orientation = create_count_df(df=word_df, field='orientation', index='index')\n",
    "plot_count_df(df=orientation, field='orientation', random_sample=False, color='g', rotation=0, xlabel='orientation', \\\n",
    "              ylabel='Count of each orientation', title='Orientation Distribution')"
   ]
  },
  {
   "cell_type": "code",
   "execution_count": 54,
   "metadata": {
    "id": "6bmqpwAwL9Cw",
    "outputId": "0228b552-f197-4c92-e83d-e4688b514930"
   },
   "outputs": [
    {
     "data": {
      "text/html": [
       "<div>\n",
       "<style scoped>\n",
       "    .dataframe tbody tr th:only-of-type {\n",
       "        vertical-align: middle;\n",
       "    }\n",
       "\n",
       "    .dataframe tbody tr th {\n",
       "        vertical-align: top;\n",
       "    }\n",
       "\n",
       "    .dataframe thead th {\n",
       "        text-align: right;\n",
       "    }\n",
       "</style>\n",
       "<table border=\"1\" class=\"dataframe\">\n",
       "  <thead>\n",
       "    <tr style=\"text-align: right;\">\n",
       "      <th></th>\n",
       "      <th>orientation</th>\n",
       "      <th>orientation_count</th>\n",
       "    </tr>\n",
       "  </thead>\n",
       "  <tbody>\n",
       "    <tr>\n",
       "      <th>0</th>\n",
       "      <td>Horizontal</td>\n",
       "      <td>19497</td>\n",
       "    </tr>\n",
       "    <tr>\n",
       "      <th>1</th>\n",
       "      <td>Vertical</td>\n",
       "      <td>1394</td>\n",
       "    </tr>\n",
       "    <tr>\n",
       "      <th>2</th>\n",
       "      <td>Irregular</td>\n",
       "      <td>135</td>\n",
       "    </tr>\n",
       "  </tbody>\n",
       "</table>\n",
       "</div>"
      ],
      "text/plain": [
       "  orientation  orientation_count\n",
       "0  Horizontal              19497\n",
       "1    Vertical               1394\n",
       "2   Irregular                135"
      ]
     },
     "execution_count": 54,
     "metadata": {},
     "output_type": "execute_result"
    }
   ],
   "source": [
    "orientation"
   ]
  },
  {
   "cell_type": "code",
   "execution_count": 55,
   "metadata": {
    "id": "sTQ615PrL9Cw",
    "outputId": "42befbb7-92cb-4b1e-b3fc-2094f4000fb6"
   },
   "outputs": [
    {
     "name": "stderr",
     "output_type": "stream",
     "text": [
      "/tmp/ipykernel_6944/2687934052.py:15: UserWarning: FixedFormatter should only be used together with FixedLocator\n",
      "  ax.set_xticklabels(df[field],rotation=rotation, fontsize=13)\n"
     ]
    },
    {
     "data": {
      "image/png": "[encoded data removed]",
      "text/plain": [
       "<Figure size 720x432 with 1 Axes>"
      ]
     },
     "metadata": {},
     "output_type": "display_data"
    }
   ],
   "source": [
    "# None means it's either a different language or a special symbol\n",
    "lang = create_count_df(df=word_df, field='language', index='index')\n",
    "plot_count_df(df=lang, field='language', random_sample=False, color='g', rotation=0, xlabel='language', \\\n",
    "              ylabel='Count of each language', title='Language Distribution')"
   ]
  },
  {
   "cell_type": "code",
   "execution_count": 57,
   "metadata": {
    "id": "S5BdAj4wL9Cw"
   },
   "outputs": [],
   "source": [
    "def plot_dist_list(target_list, bins, color, xlabel, ylabel, title):\n",
    "    sns.set(color_codes=True)\n",
    "    fig, ax = plt.subplots(figsize=(18,6))\n",
    "    sns.distplot(target_list, bins=bins, color=color, ax=ax)\n",
    "    ax.set_xlabel(xlabel, fontsize=13)\n",
    "    ax.set_ylabel(ylabel, fontsize=13)\n",
    "    ax.set_title(title, fontsize=20)\n",
    "    plt.show()"
   ]
  },
  {
   "cell_type": "code",
   "execution_count": null,
   "metadata": {
    "id": "j0L_YEPTL9Cx"
   },
   "outputs": [],
   "source": []
  },
  {
   "cell_type": "code",
   "execution_count": null,
   "metadata": {
    "id": "yjdP8vmYL9Cx"
   },
   "outputs": [],
   "source": []
  },
  {
   "cell_type": "code",
   "execution_count": null,
   "metadata": {
    "id": "J-54Pb_6L9Cx"
   },
   "outputs": [],
   "source": []
  }
 ],
 "metadata": {
  "colab": {
   "collapsed_sections": [],
   "name": "OCR_EDA_revised.ipynb",
   "provenance": []
  },
  "kernelspec": {
   "display_name": "Python 3 (ipykernel)",
   "language": "python",
   "name": "python3"
  },
  "language_info": {
   "codemirror_mode": {
    "name": "ipython",
    "version": 3
   },
   "file_extension": ".py",
   "mimetype": "text/x-python",
   "name": "python",
   "nbconvert_exporter": "python",
   "pygments_lexer": "ipython3",
   "version": "3.8.5"
  }
 },
 "nbformat": 4,
 "nbformat_minor": 4
}

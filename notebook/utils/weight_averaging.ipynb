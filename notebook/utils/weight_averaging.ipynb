{
 "cells": [
  {
   "cell_type": "code",
   "execution_count": 9,
   "id": "b1f74f86-cbc0-4314-9aed-89e942e66594",
   "metadata": {},
   "outputs": [],
   "source": [
    "import torch\n",
    "import numpy as np\n",
    "import os\n",
    "import sys\n",
    "# for torch.save(model.state_dict())\n",
    "#sys.path.append('/opt/ml/code.model.py')\n",
    "#import model"
   ]
  },
  {
   "cell_type": "code",
   "execution_count": 11,
   "id": "7d4c6e99-7562-407e-8f38-16ef531b2f62",
   "metadata": {},
   "outputs": [
    {
     "name": "stdout",
     "output_type": "stream",
     "text": [
      "['/opt/ml/code/trained_models/normalize002.pth', '/opt/ml/code/trained_models/epoch_43_0.3068813303342232.pth', '/opt/ml/code/trained_models/latest.pth', '/opt/ml/code/trained_models/camper_dataset_557.pth', '/opt/ml/code/trained_models/base_best_epoch_200.pth']\n"
     ]
    }
   ],
   "source": [
    "MODEL_ROOT = '/opt/ml/code/trained_models'\n",
    "model_list = [MODEL_ROOT+'/'+pth for pth in os.listdir(MODEL_ROOT) if pth.endswith('pth')]\n",
    "print(model_list)"
   ]
  },
  {
   "cell_type": "code",
   "execution_count": null,
   "id": "19042255-df7b-4d4a-93b5-cf0e4e052a24",
   "metadata": {},
   "outputs": [],
   "source": [
    "model_weight = [torch.load(model) for model in model_list]\n",
    "key_list = model_weight[0].keys()\n",
    "target = model_weight[0]\n",
    "\n",
    "for i in range(1, len(model_weight)+1, 1):\n",
    "    for key in key_list:\n",
    "        target[key]+= model_weight[i][key]\n",
    "\n",
    "target = np.true_device(target, len(model_weight))\n",
    "\n",
    "torch.save(target, 'model.pth')"
   ]
  }
 ],
 "metadata": {
  "kernelspec": {
   "display_name": "ocr",
   "language": "python",
   "name": "ocr"
  },
  "language_info": {
   "codemirror_mode": {
    "name": "ipython",
    "version": 3
   },
   "file_extension": ".py",
   "mimetype": "text/x-python",
   "name": "python",
   "nbconvert_exporter": "python",
   "pygments_lexer": "ipython3",
   "version": "3.8.5"
  }
 },
 "nbformat": 4,
 "nbformat_minor": 5
}

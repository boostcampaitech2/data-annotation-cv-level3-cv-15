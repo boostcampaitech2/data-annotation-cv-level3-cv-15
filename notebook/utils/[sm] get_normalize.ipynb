{
 "cells": [
  {
   "cell_type": "code",
   "execution_count": 5,
   "id": "e122eb61-85f6-4bce-a889-48d5ff69705c",
   "metadata": {},
   "outputs": [],
   "source": [
    "from collections import defaultdict\n",
    "from tqdm import tqdm\n",
    "import numpy as np\n",
    "import cv2\n",
    "import os"
   ]
  },
  {
   "cell_type": "code",
   "execution_count": 2,
   "id": "82357bee-bcc0-418b-8501-8e4884092066",
   "metadata": {},
   "outputs": [
    {
     "name": "stdout",
     "output_type": "stream",
     "text": [
      "dict_keys(['jpg', 'jpeg', 'JPG', 'png', 'PNG', 'HEIC'])\n"
     ]
    }
   ],
   "source": [
    "# file extension check\n",
    "IMG_ROOT = '/opt/ml/input/data/mergeset/images'\n",
    "\n",
    "img_list = defaultdict(list)\n",
    "\n",
    "for i in os.listdir(IMG_ROOT):\n",
    "    _, extension = os.path.splitext(i)\n",
    "    img_list[extension.replace('.','')].append(i)\n",
    "\n",
    "print(img_list.keys())"
   ]
  },
  {
   "cell_type": "code",
   "execution_count": 9,
   "id": "ec875e94-1e18-465f-988f-c0833d1f9ddd",
   "metadata": {},
   "outputs": [
    {
     "name": "stdout",
     "output_type": "stream",
     "text": [
      "jpg start\n"
     ]
    },
    {
     "name": "stderr",
     "output_type": "stream",
     "text": [
      " 17%|█▋        | 239/1432 [07:26<17:44,  1.12it/s]  Invalid SOS parameters for sequential JPEG\n",
      "100%|██████████| 1432/1432 [48:04<00:00,  2.01s/it] \n"
     ]
    },
    {
     "name": "stdout",
     "output_type": "stream",
     "text": [
      "jpeg start\n"
     ]
    },
    {
     "name": "stderr",
     "output_type": "stream",
     "text": [
      "100%|██████████| 671/671 [15:44<00:00,  1.41s/it]\n"
     ]
    },
    {
     "name": "stdout",
     "output_type": "stream",
     "text": [
      "JPG start\n"
     ]
    },
    {
     "name": "stderr",
     "output_type": "stream",
     "text": [
      "100%|██████████| 78/78 [00:41<00:00,  1.87it/s]\n"
     ]
    },
    {
     "name": "stdout",
     "output_type": "stream",
     "text": [
      "png start\n"
     ]
    },
    {
     "name": "stderr",
     "output_type": "stream",
     "text": [
      "100%|██████████| 3/3 [00:00<00:00,  9.17it/s]\n"
     ]
    },
    {
     "name": "stdout",
     "output_type": "stream",
     "text": [
      "PNG start\n"
     ]
    },
    {
     "name": "stderr",
     "output_type": "stream",
     "text": [
      "100%|██████████| 1/1 [00:00<00:00,  2.12it/s]\n"
     ]
    },
    {
     "name": "stdout",
     "output_type": "stream",
     "text": [
      "HEIC start\n"
     ]
    },
    {
     "name": "stderr",
     "output_type": "stream",
     "text": [
      "100%|██████████| 1/1 [00:00<00:00,  1.79it/s]"
     ]
    },
    {
     "name": "stdout",
     "output_type": "stream",
     "text": [
      "2186\n",
      "2\n",
      "error file: 0, []\n"
     ]
    },
    {
     "name": "stderr",
     "output_type": "stream",
     "text": [
      "\n"
     ]
    }
   ],
   "source": [
    "# calculate mean and std\n",
    "\n",
    "img_info = dict(means=[], stds=[])\n",
    "error_file = []\n",
    "img_count = 0\n",
    "\n",
    "for k,v in img_list.items():\n",
    "    print(f'{k} start') \n",
    "    for image in tqdm(v):\n",
    "        sample = cv2.imread(os.path.join(IMG_ROOT, image))\n",
    "        if sample is None:\n",
    "            error_file.append(image)\n",
    "        else:\n",
    "            img_info['means'].append(sample.mean(axis=(0,1)))\n",
    "            img_info['stds'].append(sample.std(axis=(0,1)))\n",
    "        img_count +=1\n",
    "        \n",
    "print(img_count)\n",
    "print(len(img_info))\n",
    "print(f'error file: {len(error_file)}, {error_file}')"
   ]
  },
  {
   "cell_type": "code",
   "execution_count": 10,
   "id": "e0aff3c8-a644-4354-912a-7a8977a31991",
   "metadata": {},
   "outputs": [
    {
     "name": "stdout",
     "output_type": "stream",
     "text": [
      "RGB Mean: [113.14661529 121.47587567 128.85862399]\n",
      "RGB Standard Deviation: [56.4364111  56.5680008  58.22730694]\n"
     ]
    }
   ],
   "source": [
    "print(f'RGB Mean: {np.mean(img_info[\"means\"], axis=0)}')\n",
    "print(f'RGB Standard Deviation: {np.mean(img_info[\"stds\"], axis=0)}')"
   ]
  },
  {
   "cell_type": "code",
   "execution_count": null,
   "id": "b27d4cdd-8b53-4506-9ccd-c41b1228e46f",
   "metadata": {},
   "outputs": [],
   "source": []
  }
 ],
 "metadata": {
  "kernelspec": {
   "display_name": "ocr",
   "language": "python",
   "name": "ocr"
  },
  "language_info": {
   "codemirror_mode": {
    "name": "ipython",
    "version": 3
   },
   "file_extension": ".py",
   "mimetype": "text/x-python",
   "name": "python",
   "nbconvert_exporter": "python",
   "pygments_lexer": "ipython3",
   "version": "3.8.5"
  }
 },
 "nbformat": 4,
 "nbformat_minor": 5
}

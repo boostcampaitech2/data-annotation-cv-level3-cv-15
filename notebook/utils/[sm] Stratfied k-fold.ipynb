{
 "cells": [
  {
   "cell_type": "code",
   "execution_count": 1,
   "id": "cac59694-81c2-4edd-b38c-ca466bd7744c",
   "metadata": {},
   "outputs": [],
   "source": [
    "import pandas as pd\n",
    "import numpy as np\n",
    "import json\n",
    "import os"
   ]
  },
  {
   "cell_type": "code",
   "execution_count": 2,
   "id": "189e1c85-3bb0-4b25-bbf3-766168b7044b",
   "metadata": {},
   "outputs": [
    {
     "name": "stdout",
     "output_type": "stream",
     "text": [
      "1811\n"
     ]
    }
   ],
   "source": [
    "IMG_ROOT = '/opt/ml/input/data/mergeset'\n",
    "with open(os.path.join(IMG_ROOT, 'ufo/train_new.json'),'r') as f:\n",
    "    merge_set = json.load(f)\n",
    "print(len(merge_set['images']))"
   ]
  },
  {
   "cell_type": "code",
   "execution_count": 3,
   "id": "a58828ad-3a33-493e-ac33-b7b1d0e179fe",
   "metadata": {},
   "outputs": [
    {
     "name": "stdout",
     "output_type": "stream",
     "text": [
      "len(df_keys) : 1811\t len(df_values) : 1811\n"
     ]
    },
    {
     "data": {
      "text/html": [
       "<div>\n",
       "<style scoped>\n",
       "    .dataframe tbody tr th:only-of-type {\n",
       "        vertical-align: middle;\n",
       "    }\n",
       "\n",
       "    .dataframe tbody tr th {\n",
       "        vertical-align: top;\n",
       "    }\n",
       "\n",
       "    .dataframe thead th {\n",
       "        text-align: right;\n",
       "    }\n",
       "</style>\n",
       "<table border=\"1\" class=\"dataframe\">\n",
       "  <thead>\n",
       "    <tr style=\"text-align: right;\">\n",
       "      <th></th>\n",
       "      <th></th>\n",
       "      <th>points</th>\n",
       "      <th>transcription</th>\n",
       "      <th>language</th>\n",
       "      <th>illegibility</th>\n",
       "      <th>orientation</th>\n",
       "      <th>word_tags</th>\n",
       "    </tr>\n",
       "  </thead>\n",
       "  <tbody>\n",
       "    <tr>\n",
       "      <th rowspan=\"3\" valign=\"top\">img_4380.jpg</th>\n",
       "      <th>0</th>\n",
       "      <td>[[662.0, 747.0], [945.0, 759.0], [922.0, 1582....</td>\n",
       "      <td>출입금지</td>\n",
       "      <td>[ko]</td>\n",
       "      <td>False</td>\n",
       "      <td>Horizontal</td>\n",
       "      <td>None</td>\n",
       "    </tr>\n",
       "    <tr>\n",
       "      <th>1</th>\n",
       "      <td>[[476.0, 551.0], [1132.0, 554.0], [1118.0, 747...</td>\n",
       "      <td>오토바이</td>\n",
       "      <td>[ko]</td>\n",
       "      <td>False</td>\n",
       "      <td>Horizontal</td>\n",
       "      <td>None</td>\n",
       "    </tr>\n",
       "    <tr>\n",
       "      <th>2</th>\n",
       "      <td>[[455.0, 293.0], [1144.0, 310.0], [1129.0, 518...</td>\n",
       "      <td>자전거</td>\n",
       "      <td>[ko]</td>\n",
       "      <td>False</td>\n",
       "      <td>Horizontal</td>\n",
       "      <td>None</td>\n",
       "    </tr>\n",
       "    <tr>\n",
       "      <th rowspan=\"2\" valign=\"top\">img_4583.jpg</th>\n",
       "      <th>0</th>\n",
       "      <td>[[323.0, 912.0], [1747.0, 943.0], [1747.0, 114...</td>\n",
       "      <td>010-9075-2192</td>\n",
       "      <td>[en]</td>\n",
       "      <td>False</td>\n",
       "      <td>Horizontal</td>\n",
       "      <td>None</td>\n",
       "    </tr>\n",
       "    <tr>\n",
       "      <th>1</th>\n",
       "      <td>[[318.0, 620.0], [1754.0, 664.0], [1752.0, 876...</td>\n",
       "      <td>주말관광문의</td>\n",
       "      <td>[ko]</td>\n",
       "      <td>False</td>\n",
       "      <td>Horizontal</td>\n",
       "      <td>None</td>\n",
       "    </tr>\n",
       "    <tr>\n",
       "      <th>...</th>\n",
       "      <th>...</th>\n",
       "      <td>...</td>\n",
       "      <td>...</td>\n",
       "      <td>...</td>\n",
       "      <td>...</td>\n",
       "      <td>...</td>\n",
       "      <td>...</td>\n",
       "    </tr>\n",
       "    <tr>\n",
       "      <th rowspan=\"5\" valign=\"top\">IMG_5464.jpeg</th>\n",
       "      <th>33</th>\n",
       "      <td>[[951.0, 3419.25], [1051, 3419.25], [1051, 350...</td>\n",
       "      <td>425</td>\n",
       "      <td>[Others]</td>\n",
       "      <td>False</td>\n",
       "      <td>Horizontal</td>\n",
       "      <td>None</td>\n",
       "    </tr>\n",
       "    <tr>\n",
       "      <th>34</th>\n",
       "      <td>[[1088.5, 3419.25], [1098.5, 3419.25], [1098.5...</td>\n",
       "      <td>)</td>\n",
       "      <td>[Others]</td>\n",
       "      <td>False</td>\n",
       "      <td>Horizontal</td>\n",
       "      <td>None</td>\n",
       "    </tr>\n",
       "    <tr>\n",
       "      <th>35</th>\n",
       "      <td>[[938.5, 3424.25], [951.0, 3424.25], [951.0, 3...</td>\n",
       "      <td>(</td>\n",
       "      <td>[Others]</td>\n",
       "      <td>False</td>\n",
       "      <td>Horizontal</td>\n",
       "      <td>None</td>\n",
       "    </tr>\n",
       "    <tr>\n",
       "      <th>36</th>\n",
       "      <td>[[618.0, 3132.33], [661.33, 3132.33], [661.33,...</td>\n",
       "      <td>D</td>\n",
       "      <td>[EN]</td>\n",
       "      <td>False</td>\n",
       "      <td>Horizontal</td>\n",
       "      <td>None</td>\n",
       "    </tr>\n",
       "    <tr>\n",
       "      <th>37</th>\n",
       "      <td>[[554.67, 3132.33], [594.67, 3132.33], [594.67...</td>\n",
       "      <td>U</td>\n",
       "      <td>[Others]</td>\n",
       "      <td>False</td>\n",
       "      <td>Horizontal</td>\n",
       "      <td>None</td>\n",
       "    </tr>\n",
       "  </tbody>\n",
       "</table>\n",
       "<p>26341 rows × 6 columns</p>\n",
       "</div>"
      ],
      "text/plain": [
       "                                                             points  \\\n",
       "img_4380.jpg  0   [[662.0, 747.0], [945.0, 759.0], [922.0, 1582....   \n",
       "              1   [[476.0, 551.0], [1132.0, 554.0], [1118.0, 747...   \n",
       "              2   [[455.0, 293.0], [1144.0, 310.0], [1129.0, 518...   \n",
       "img_4583.jpg  0   [[323.0, 912.0], [1747.0, 943.0], [1747.0, 114...   \n",
       "              1   [[318.0, 620.0], [1754.0, 664.0], [1752.0, 876...   \n",
       "...                                                             ...   \n",
       "IMG_5464.jpeg 33  [[951.0, 3419.25], [1051, 3419.25], [1051, 350...   \n",
       "              34  [[1088.5, 3419.25], [1098.5, 3419.25], [1098.5...   \n",
       "              35  [[938.5, 3424.25], [951.0, 3424.25], [951.0, 3...   \n",
       "              36  [[618.0, 3132.33], [661.33, 3132.33], [661.33,...   \n",
       "              37  [[554.67, 3132.33], [594.67, 3132.33], [594.67...   \n",
       "\n",
       "                  transcription  language illegibility orientation word_tags  \n",
       "img_4380.jpg  0            출입금지      [ko]        False  Horizontal      None  \n",
       "              1            오토바이      [ko]        False  Horizontal      None  \n",
       "              2             자전거      [ko]        False  Horizontal      None  \n",
       "img_4583.jpg  0   010-9075-2192      [en]        False  Horizontal      None  \n",
       "              1          주말관광문의      [ko]        False  Horizontal      None  \n",
       "...                         ...       ...          ...         ...       ...  \n",
       "IMG_5464.jpeg 33            425  [Others]        False  Horizontal      None  \n",
       "              34              )  [Others]        False  Horizontal      None  \n",
       "              35              (  [Others]        False  Horizontal      None  \n",
       "              36              D      [EN]        False  Horizontal      None  \n",
       "              37              U  [Others]        False  Horizontal      None  \n",
       "\n",
       "[26341 rows x 6 columns]"
      ]
     },
     "execution_count": 3,
     "metadata": {},
     "output_type": "execute_result"
    }
   ],
   "source": [
    "image_set = merge_set['images']\n",
    "\n",
    "df_keys = []\n",
    "df_values = []\n",
    "\n",
    "for k,v in image_set.items():\n",
    "    df_keys.append(k)\n",
    "    # transpose data for mapping image name\n",
    "    df_values.append(pd.DataFrame(v['words']).T)\n",
    "    \n",
    "df = pd.concat(df_values, keys=df_keys)\n",
    "print(f'len(df_keys) : {len(df_keys)}\\t len(df_values) : {len(df_values)}')\n",
    "df"
   ]
  },
  {
   "cell_type": "code",
   "execution_count": 4,
   "id": "4b37acb5-9714-4cbf-a42b-c5836b9eaba6",
   "metadata": {},
   "outputs": [
    {
     "data": {
      "text/plain": [
       "MultiIndex([('img_4380.jpg', '0'),\n",
       "            ('img_4380.jpg', '1'),\n",
       "            ('img_4380.jpg', '2'),\n",
       "            ('img_4583.jpg', '0'),\n",
       "            ('img_4583.jpg', '1')],\n",
       "           )"
      ]
     },
     "execution_count": 4,
     "metadata": {},
     "output_type": "execute_result"
    }
   ],
   "source": [
    "df.index[:5]"
   ]
  },
  {
   "cell_type": "code",
   "execution_count": 5,
   "id": "1a3f6238-3115-4164-b2f5-a9dd19f9960a",
   "metadata": {},
   "outputs": [
    {
     "name": "stdout",
     "output_type": "stream",
     "text": [
      "{'IMG_5405.JPG'}\n"
     ]
    },
    {
     "data": {
      "text/html": [
       "<div>\n",
       "<style scoped>\n",
       "    .dataframe tbody tr th:only-of-type {\n",
       "        vertical-align: middle;\n",
       "    }\n",
       "\n",
       "    .dataframe tbody tr th {\n",
       "        vertical-align: top;\n",
       "    }\n",
       "\n",
       "    .dataframe thead th {\n",
       "        text-align: right;\n",
       "    }\n",
       "</style>\n",
       "<table border=\"1\" class=\"dataframe\">\n",
       "  <thead>\n",
       "    <tr style=\"text-align: right;\">\n",
       "      <th></th>\n",
       "      <th>points</th>\n",
       "      <th>transcription</th>\n",
       "      <th>language</th>\n",
       "      <th>illegibility</th>\n",
       "      <th>orientation</th>\n",
       "      <th>word_tags</th>\n",
       "      <th>image_name</th>\n",
       "      <th>point_name</th>\n",
       "    </tr>\n",
       "  </thead>\n",
       "  <tbody>\n",
       "    <tr>\n",
       "      <th>0</th>\n",
       "      <td>[[662.0, 747.0], [945.0, 759.0], [922.0, 1582....</td>\n",
       "      <td>출입금지</td>\n",
       "      <td>[ko]</td>\n",
       "      <td>False</td>\n",
       "      <td>Horizontal</td>\n",
       "      <td>None</td>\n",
       "      <td>img_4380.jpg</td>\n",
       "      <td>0</td>\n",
       "    </tr>\n",
       "    <tr>\n",
       "      <th>1</th>\n",
       "      <td>[[476.0, 551.0], [1132.0, 554.0], [1118.0, 747...</td>\n",
       "      <td>오토바이</td>\n",
       "      <td>[ko]</td>\n",
       "      <td>False</td>\n",
       "      <td>Horizontal</td>\n",
       "      <td>None</td>\n",
       "      <td>img_4380.jpg</td>\n",
       "      <td>1</td>\n",
       "    </tr>\n",
       "    <tr>\n",
       "      <th>2</th>\n",
       "      <td>[[455.0, 293.0], [1144.0, 310.0], [1129.0, 518...</td>\n",
       "      <td>자전거</td>\n",
       "      <td>[ko]</td>\n",
       "      <td>False</td>\n",
       "      <td>Horizontal</td>\n",
       "      <td>None</td>\n",
       "      <td>img_4380.jpg</td>\n",
       "      <td>2</td>\n",
       "    </tr>\n",
       "    <tr>\n",
       "      <th>3</th>\n",
       "      <td>[[323.0, 912.0], [1747.0, 943.0], [1747.0, 114...</td>\n",
       "      <td>010-9075-2192</td>\n",
       "      <td>[en]</td>\n",
       "      <td>False</td>\n",
       "      <td>Horizontal</td>\n",
       "      <td>None</td>\n",
       "      <td>img_4583.jpg</td>\n",
       "      <td>0</td>\n",
       "    </tr>\n",
       "    <tr>\n",
       "      <th>4</th>\n",
       "      <td>[[318.0, 620.0], [1754.0, 664.0], [1752.0, 876...</td>\n",
       "      <td>주말관광문의</td>\n",
       "      <td>[ko]</td>\n",
       "      <td>False</td>\n",
       "      <td>Horizontal</td>\n",
       "      <td>None</td>\n",
       "      <td>img_4583.jpg</td>\n",
       "      <td>1</td>\n",
       "    </tr>\n",
       "  </tbody>\n",
       "</table>\n",
       "</div>"
      ],
      "text/plain": [
       "                                              points  transcription language  \\\n",
       "0  [[662.0, 747.0], [945.0, 759.0], [922.0, 1582....           출입금지     [ko]   \n",
       "1  [[476.0, 551.0], [1132.0, 554.0], [1118.0, 747...           오토바이     [ko]   \n",
       "2  [[455.0, 293.0], [1144.0, 310.0], [1129.0, 518...            자전거     [ko]   \n",
       "3  [[323.0, 912.0], [1747.0, 943.0], [1747.0, 114...  010-9075-2192     [en]   \n",
       "4  [[318.0, 620.0], [1754.0, 664.0], [1752.0, 876...         주말관광문의     [ko]   \n",
       "\n",
       "  illegibility orientation word_tags    image_name  point_name  \n",
       "0        False  Horizontal      None  img_4380.jpg           0  \n",
       "1        False  Horizontal      None  img_4380.jpg           1  \n",
       "2        False  Horizontal      None  img_4380.jpg           2  \n",
       "3        False  Horizontal      None  img_4583.jpg           0  \n",
       "4        False  Horizontal      None  img_4583.jpg           1  "
      ]
     },
     "execution_count": 5,
     "metadata": {},
     "output_type": "execute_result"
    }
   ],
   "source": [
    "#divide index\n",
    "df['image_name'] = df.index.get_level_values(0)\n",
    "df['point_name'] = df.index.get_level_values(1).astype(int)\n",
    "#change index\n",
    "df.index = (i for i in range(len(df)))\n",
    "a= set(df['image_name'].values)\n",
    "df = df.loc[df.illegibility == False]\n",
    "b= set(df.image_name.values)\n",
    "print(a-b)\n",
    "df.head()"
   ]
  },
  {
   "cell_type": "code",
   "execution_count": 6,
   "id": "853f7b96-2326-4c44-bbfc-367aa4f5d426",
   "metadata": {},
   "outputs": [
    {
     "data": {
      "text/plain": [
       "{'0': {'points': [[356.67, 1256.67],\n",
       "   [776.67, 1223.33],\n",
       "   [813.33, 1406.67],\n",
       "   [383.33, 1440.0]],\n",
       "  'orientation': None,\n",
       "  'transcription': None,\n",
       "  'word_tags': None,\n",
       "  'language': None,\n",
       "  'illegibility': True},\n",
       " '1': {'points': [[150.0, 1136.67],\n",
       "   [303.33, 1136.67],\n",
       "   [303.33, 1263.33],\n",
       "   [150.0, 1263.33]],\n",
       "  'orientation': None,\n",
       "  'transcription': None,\n",
       "  'word_tags': None,\n",
       "  'language': None,\n",
       "  'illegibility': True}}"
      ]
     },
     "execution_count": 6,
     "metadata": {},
     "output_type": "execute_result"
    }
   ],
   "source": [
    "image_set['IMG_5405.JPG']['words']"
   ]
  },
  {
   "cell_type": "code",
   "execution_count": 7,
   "id": "985ed35f-1f1a-4346-9007-0da455e5069e",
   "metadata": {},
   "outputs": [
    {
     "data": {
      "text/plain": [
       "<matplotlib.image.AxesImage at 0x7f9871c0e1f0>"
      ]
     },
     "execution_count": 7,
     "metadata": {},
     "output_type": "execute_result"
    },
    {
     "data": {
      "image/png": "[encoded data removed]",
      "text/plain": [
       "<Figure size 432x288 with 1 Axes>"
      ]
     },
     "metadata": {
      "needs_background": "light"
     },
     "output_type": "display_data"
    }
   ],
   "source": [
    "import cv2\n",
    "import matplotlib.pyplot as plt\n",
    "# illegibility == False 만 가져오면서 누락된 데이터 확인\n",
    "image = cv2.imread(os.path.join(IMG_ROOT, 'images/IMG_5405.JPG'))\n",
    "image = cv2.cvtColor(image, cv2.COLOR_BGR2RGB)\n",
    "\n",
    "#get annotations\n",
    "anno_lists = []\n",
    "for k,v in image_set['IMG_5405.JPG']['words'].items():\n",
    "    anno_lists.append(np.array(v['points'], dtype=np.int32))\n",
    "\n",
    "image = cv2.polylines(image, anno_lists, True, (255,0,0), 5)\n",
    "    \n",
    "plt.imshow(image)"
   ]
  },
  {
   "cell_type": "code",
   "execution_count": 8,
   "id": "bb3cfd79-3820-4bda-9b37-e4480d8b2923",
   "metadata": {},
   "outputs": [
    {
     "name": "stderr",
     "output_type": "stream",
     "text": [
      "/tmp/ipykernel_48286/1004482986.py:1: SettingWithCopyWarning: \n",
      "A value is trying to be set on a copy of a slice from a DataFrame.\n",
      "Try using .loc[row_indexer,col_indexer] = value instead\n",
      "\n",
      "See the caveats in the documentation: https://pandas.pydata.org/pandas-docs/stable/user_guide/indexing.html#returning-a-view-versus-a-copy\n",
      "  df['num_boxes'] = df['points'].apply(lambda x : int(len(x)/2 -1)) # n/2 -1\n"
     ]
    },
    {
     "data": {
      "text/html": [
       "<div>\n",
       "<style scoped>\n",
       "    .dataframe tbody tr th:only-of-type {\n",
       "        vertical-align: middle;\n",
       "    }\n",
       "\n",
       "    .dataframe tbody tr th {\n",
       "        vertical-align: top;\n",
       "    }\n",
       "\n",
       "    .dataframe thead th {\n",
       "        text-align: right;\n",
       "    }\n",
       "</style>\n",
       "<table border=\"1\" class=\"dataframe\">\n",
       "  <thead>\n",
       "    <tr style=\"text-align: right;\">\n",
       "      <th></th>\n",
       "      <th>point_name</th>\n",
       "      <th>num_boxes</th>\n",
       "    </tr>\n",
       "  </thead>\n",
       "  <tbody>\n",
       "    <tr>\n",
       "      <th>count</th>\n",
       "      <td>24602.000000</td>\n",
       "      <td>24602.000000</td>\n",
       "    </tr>\n",
       "    <tr>\n",
       "      <th>mean</th>\n",
       "      <td>22.083733</td>\n",
       "      <td>1.036786</td>\n",
       "    </tr>\n",
       "    <tr>\n",
       "      <th>std</th>\n",
       "      <td>30.780015</td>\n",
       "      <td>0.318508</td>\n",
       "    </tr>\n",
       "    <tr>\n",
       "      <th>min</th>\n",
       "      <td>0.000000</td>\n",
       "      <td>1.000000</td>\n",
       "    </tr>\n",
       "    <tr>\n",
       "      <th>25%</th>\n",
       "      <td>3.000000</td>\n",
       "      <td>1.000000</td>\n",
       "    </tr>\n",
       "    <tr>\n",
       "      <th>50%</th>\n",
       "      <td>11.000000</td>\n",
       "      <td>1.000000</td>\n",
       "    </tr>\n",
       "    <tr>\n",
       "      <th>75%</th>\n",
       "      <td>28.000000</td>\n",
       "      <td>1.000000</td>\n",
       "    </tr>\n",
       "    <tr>\n",
       "      <th>max</th>\n",
       "      <td>256.000000</td>\n",
       "      <td>12.000000</td>\n",
       "    </tr>\n",
       "  </tbody>\n",
       "</table>\n",
       "</div>"
      ],
      "text/plain": [
       "         point_name     num_boxes\n",
       "count  24602.000000  24602.000000\n",
       "mean      22.083733      1.036786\n",
       "std       30.780015      0.318508\n",
       "min        0.000000      1.000000\n",
       "25%        3.000000      1.000000\n",
       "50%       11.000000      1.000000\n",
       "75%       28.000000      1.000000\n",
       "max      256.000000     12.000000"
      ]
     },
     "execution_count": 8,
     "metadata": {},
     "output_type": "execute_result"
    }
   ],
   "source": [
    "df['num_boxes'] = df['points'].apply(lambda x : int(len(x)/2 -1)) # n/2 -1\n",
    "df.describe()"
   ]
  },
  {
   "cell_type": "code",
   "execution_count": 9,
   "id": "0776f411-4199-4f8d-8435-c83a521fe8e0",
   "metadata": {},
   "outputs": [
    {
     "name": "stdout",
     "output_type": "stream",
     "text": [
      "1810\n",
      "1810\n"
     ]
    }
   ],
   "source": [
    "new_df = df['num_boxes'].groupby(df['image_name'])\n",
    "# https://pandas.pydata.org/docs/reference/api/pandas.Series.sort_values.html\n",
    "new_df.describe()\n",
    "box_images_list = []\n",
    "box_nums_list = []\n",
    "for k,v in sorted(new_df.sum().items(), key=lambda x:x[1]):\n",
    "    box_images_list.append(k)\n",
    "    box_nums_list.append(v)\n",
    "print(len(box_images_list))\n",
    "print(len(box_nums_list))"
   ]
  },
  {
   "cell_type": "code",
   "execution_count": 10,
   "id": "3a75d872-3aa0-41d2-89c3-dcdca8efa5b7",
   "metadata": {},
   "outputs": [
    {
     "name": "stdout",
     "output_type": "stream",
     "text": [
      "mean : 14.092265193370165 std: 21.162742092648315\n"
     ]
    },
    {
     "data": {
      "image/png": "[encoded data removed]",
      "text/plain": [
       "<Figure size 432x288 with 1 Axes>"
      ]
     },
     "metadata": {
      "needs_background": "light"
     },
     "output_type": "display_data"
    }
   ],
   "source": [
    "import seaborn as sns\n",
    "\n",
    "sns.kdeplot(box_nums_list)\n",
    "print(f'mean : {sum(box_nums_list)/len(box_nums_list)} std: {np.array(box_nums_list).std()}')"
   ]
  },
  {
   "cell_type": "code",
   "execution_count": 11,
   "id": "3e82a689-eb69-4548-a1fe-0d39ac962ed0",
   "metadata": {},
   "outputs": [
    {
     "name": "stdout",
     "output_type": "stream",
     "text": [
      "StratifiedKFold(n_splits=5, random_state=None, shuffle=False)\n"
     ]
    }
   ],
   "source": [
    "from sklearn.model_selection import StratifiedKFold\n",
    "\n",
    "box_nums_list = np.array(box_nums_list)\n",
    "\n",
    "skf = StratifiedKFold(n_splits=5)\n",
    "skf.get_n_splits(box_images_list, box_nums_list)\n",
    "print(skf)"
   ]
  },
  {
   "cell_type": "code",
   "execution_count": 12,
   "id": "c6447e0d-d24d-452f-b4ea-e642b855e07b",
   "metadata": {},
   "outputs": [
    {
     "name": "stdout",
     "output_type": "stream",
     "text": [
      "TRAIN : 1448\t TEST : 362\n",
      "TRAIN : 1448\t TEST : 362\n",
      "TRAIN : 1448\t TEST : 362\n",
      "TRAIN : 1448\t TEST : 362\n",
      "TRAIN : 1448\t TEST : 362\n"
     ]
    },
    {
     "name": "stderr",
     "output_type": "stream",
     "text": [
      "/opt/conda/envs/ocr/lib/python3.8/site-packages/sklearn/model_selection/_split.py:676: UserWarning: The least populated class in y has only 1 members, which is less than n_splits=5.\n",
      "  warnings.warn(\n"
     ]
    }
   ],
   "source": [
    "train_list = []\n",
    "test_list = []\n",
    "#index 값을 내뱉는 것인다.\n",
    "for train_idx, test_idx in skf.split(box_images_list, np.array(box_nums_list)):\n",
    "    print(f'TRAIN : {len(train_idx)}\\t TEST : {len(test_idx)}')\n",
    "    train_list.append(box_nums_list[train_idx])\n",
    "    test_list.append(box_nums_list[test_idx])"
   ]
  },
  {
   "cell_type": "code",
   "execution_count": 13,
   "id": "52750e34-0fbe-44d5-b2a2-9c81b602b50e",
   "metadata": {},
   "outputs": [
    {
     "name": "stderr",
     "output_type": "stream",
     "text": [
      "/opt/conda/envs/ocr/lib/python3.8/site-packages/sklearn/model_selection/_split.py:676: UserWarning: The least populated class in y has only 1 members, which is less than n_splits=5.\n",
      "  warnings.warn(\n",
      "5it [00:10,  2.04s/it]\n"
     ]
    }
   ],
   "source": [
    "import copy\n",
    "from tqdm import tqdm\n",
    "box_images_list = np.array(box_images_list)\n",
    "valid_set_index = [test_idx for _, test_idx in skf.split(box_images_list, box_nums_list)]\n",
    "\n",
    "for i, indexes in tqdm(enumerate(valid_set_index)):\n",
    "    valid_image_list = box_images_list[indexes]\n",
    "    \n",
    "    temp_image_set = copy.deepcopy(merge_set)\n",
    "    valid_json_dict = dict(images={})\n",
    "    \n",
    "    for image in valid_image_list:\n",
    "        valid_json_dict['images'][image] = temp_image_set['images'][image]\n",
    "        del(temp_image_set['images'][image])\n",
    "        \n",
    "    with open(f'train_{i}.json', 'w') as f:\n",
    "        json.dump(temp_image_set, f, indent=4)\n",
    "        \n",
    "    with open(f'valid_{i}.json', 'w') as ff:\n",
    "        json.dump(valid_json_dict, ff, indent=4)"
   ]
  },
  {
   "cell_type": "code",
   "execution_count": 14,
   "id": "eab4f052-7519-4ad1-bb52-994a2592c792",
   "metadata": {},
   "outputs": [
    {
     "name": "stdout",
     "output_type": "stream",
     "text": [
      "1449\n",
      "362\n"
     ]
    }
   ],
   "source": [
    "with open('train_0.json', 'r') as hello:\n",
    "    train0 = json.load(hello)\n",
    "    print(len(train0['images']))\n",
    "\n",
    "with open('valid_0.json', 'r') as hi:\n",
    "    valid0 = json.load(hi)\n",
    "    print(len(valid0['images']))"
   ]
  },
  {
   "cell_type": "code",
   "execution_count": 15,
   "id": "14fa1c57-83d0-420b-bf82-97adb92cce2e",
   "metadata": {},
   "outputs": [
    {
     "name": "stdout",
     "output_type": "stream",
     "text": [
      "1449\n",
      "362\n"
     ]
    }
   ],
   "source": [
    "with open('train_1.json', 'r') as hello:\n",
    "    train1 = json.load(hello)\n",
    "    print(len(train1['images']))\n",
    "\n",
    "with open('valid_1.json', 'r') as hi:\n",
    "    valid1 = json.load(hi)\n",
    "    print(len(valid1['images']))"
   ]
  },
  {
   "cell_type": "code",
   "execution_count": 16,
   "id": "037587b9-2136-4d86-8fcf-73616480d197",
   "metadata": {},
   "outputs": [
    {
     "data": {
      "text/plain": [
       "<AxesSubplot:ylabel='Density'>"
      ]
     },
     "execution_count": 16,
     "metadata": {},
     "output_type": "execute_result"
    },
    {
     "data": {
      "image/png": "[encoded data removed]",
      "text/plain": [
       "<Figure size 432x288 with 1 Axes>"
      ]
     },
     "metadata": {
      "needs_background": "light"
     },
     "output_type": "display_data"
    }
   ],
   "source": [
    "sns.kdeplot(train_list[0])"
   ]
  },
  {
   "cell_type": "code",
   "execution_count": 17,
   "id": "85db54b0-41b5-40a6-bc91-098cb8bd480f",
   "metadata": {},
   "outputs": [
    {
     "data": {
      "text/plain": [
       "<AxesSubplot:ylabel='Density'>"
      ]
     },
     "execution_count": 17,
     "metadata": {},
     "output_type": "execute_result"
    },
    {
     "data": {
      "image/png": "[encoded data removed]",
      "text/plain": [
       "<Figure size 432x288 with 1 Axes>"
      ]
     },
     "metadata": {
      "needs_background": "light"
     },
     "output_type": "display_data"
    }
   ],
   "source": [
    "sns.kdeplot(test_list[0])"
   ]
  },
  {
   "cell_type": "code",
   "execution_count": null,
   "id": "c0275993-e5b4-41b4-ac80-ea3c05eadbe2",
   "metadata": {},
   "outputs": [],
   "source": []
  }
 ],
 "metadata": {
  "kernelspec": {
   "display_name": "ocr",
   "language": "python",
   "name": "ocr"
  },
  "language_info": {
   "codemirror_mode": {
    "name": "ipython",
    "version": 3
   },
   "file_extension": ".py",
   "mimetype": "text/x-python",
   "name": "python",
   "nbconvert_exporter": "python",
   "pygments_lexer": "ipython3",
   "version": "3.8.5"
  }
 },
 "nbformat": 4,
 "nbformat_minor": 5
}
